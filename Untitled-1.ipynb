{
 "cells": [
  {
   "cell_type": "code",
   "execution_count": 2,
   "metadata": {},
   "outputs": [
    {
     "name": "stdout",
     "output_type": "stream",
     "text": [
      "2 adalah bilangan prima.\n"
     ]
    }
   ],
   "source": [
    "#Latihan 1\n",
    "def cek_prima(bilangan, pembagi=None):\n",
    "    if pembagi is None:\n",
    "        pembagi = bilangan - 1\n",
    "\n",
    "    if bilangan <= 1:\n",
    "        return False\n",
    "    elif pembagi == 1:\n",
    "        return True\n",
    "    elif bilangan % pembagi == 0:\n",
    "        return False\n",
    "    else:\n",
    "        return cek_prima(bilangan, pembagi - 1)\n",
    "\n",
    "angka = int(input(\"Masukkan bilangan: \"))\n",
    "if cek_prima(angka):\n",
    "    print(f\"{angka} adalah bilangan prima.\")\n",
    "else:\n",
    "    print(f\"{angka} bukan bilangan prima.\")\n"
   ]
  },
  {
   "cell_type": "code",
   "execution_count": 3,
   "metadata": {},
   "outputs": [
    {
     "name": "stdout",
     "output_type": "stream",
     "text": [
      "kalimat tersebut palindrom\n"
     ]
    }
   ],
   "source": [
    "#Latihan 2\n",
    "def palindrom(kalimat):\n",
    "    if len(kalimat) < 2:\n",
    "        return True\n",
    "    elif kalimat[0] == kalimat[-1]:\n",
    "        return palindrom(kalimat[1:-1])\n",
    "    return False\n",
    "\n",
    "kal = input(\"masukkan kalimat = \")\n",
    "kal = kal.replace(' ', '').lower()\n",
    "if palindrom(kal) :\n",
    "    print(\"kalimat tersebut palindrom\")\n",
    "else :\n",
    "    print(\"kalimat tersebut bukan palindrom\")"
   ]
  },
  {
   "cell_type": "code",
   "execution_count": 5,
   "metadata": {},
   "outputs": [
    {
     "name": "stdout",
     "output_type": "stream",
     "text": [
      "16\n"
     ]
    }
   ],
   "source": [
    "#Latihan 3\n",
    "def deret_ganjil(x):\n",
    "    if x <= 0:\n",
    "        return 0\n",
    "    else:\n",
    "        return (2 * x - 1) + deret_ganjil(x - 1)\n",
    "\n",
    "bil = int(input(\"masukkan bilangan = \"))\n",
    "print(deret_ganjil(bil))"
   ]
  },
  {
   "cell_type": "code",
   "execution_count": 6,
   "metadata": {},
   "outputs": [
    {
     "name": "stdout",
     "output_type": "stream",
     "text": [
      "2 + 3 + 4 = 9\n"
     ]
    }
   ],
   "source": [
    "#Latihan 4\n",
    "def jumlah_digit(bilangan):\n",
    "    if bilangan < 10:\n",
    "        return bilangan, str(bilangan)\n",
    "    else:\n",
    "        hasil, representasi = jumlah_digit(bilangan // 10)\n",
    "        sisa = bilangan % 10\n",
    "        return sisa + hasil, representasi + \" + \" + str(sisa)\n",
    "\n",
    "def print_jumlah_digit(bilangan):\n",
    "    hasil, representasi = jumlah_digit(bilangan)\n",
    "    print(f\"{representasi} = {hasil}\")\n",
    "\n",
    "print_jumlah_digit(234)"
   ]
  },
  {
   "cell_type": "code",
   "execution_count": 11,
   "metadata": {},
   "outputs": [
    {
     "name": "stdout",
     "output_type": "stream",
     "text": [
      "C(5, 2) = 10\n"
     ]
    }
   ],
   "source": [
    "#Latihan 5\n",
    "def kombinasi(n, k):\n",
    "    if k == 0 or k == n:\n",
    "        return 1\n",
    "    else:\n",
    "        return kombinasi(n-1, k-1) + kombinasi(n-1, k)\n",
    "    \n",
    "n = 5\n",
    "k = 2\n",
    "print(f\"C({n}, {k}) = {kombinasi(n, k)}\")"
   ]
  }
 ],
 "metadata": {
  "kernelspec": {
   "display_name": "Python 3",
   "language": "python",
   "name": "python3"
  },
  "language_info": {
   "codemirror_mode": {
    "name": "ipython",
    "version": 3
   },
   "file_extension": ".py",
   "mimetype": "text/x-python",
   "name": "python",
   "nbconvert_exporter": "python",
   "pygments_lexer": "ipython3",
   "version": "3.12.2"
  },
  "orig_nbformat": 4
 },
 "nbformat": 4,
 "nbformat_minor": 2
}
